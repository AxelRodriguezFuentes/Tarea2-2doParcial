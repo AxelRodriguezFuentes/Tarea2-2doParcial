{
  "nbformat": 4,
  "nbformat_minor": 0,
  "metadata": {
    "colab": {
      "name": "Untitled4.ipynb",
      "provenance": [],
      "collapsed_sections": []
    },
    "kernelspec": {
      "name": "python3",
      "display_name": "Python 3"
    }
  },
  "cells": [
    {
      "cell_type": "code",
      "metadata": {
        "colab": {
          "base_uri": "https://localhost:8080/",
          "height": 382
        },
        "id": "3A8rYWrcgVYL",
        "outputId": "45bcf2fc-3ae6-49d7-b6a4-056dc02e5c4c"
      },
      "source": [
        "newton()"
      ],
      "execution_count": 15,
      "outputs": [
        {
          "output_type": "stream",
          "text": [
            "Metodo Newton Raphson funcion 2*x^2-x-5\n",
            "Ingresa un valor inicial\n",
            "33\n",
            "Ingresa un criterio de paro /n Debe ser meno a 1, ejemplo 0.00001\n",
            "0.00001\n",
            "Raiz 1.8507810594006802\n",
            "True\n"
          ],
          "name": "stdout"
        },
        {
          "output_type": "display_data",
          "data": {
            "image/png": "[encoded data removed]",
            "text/plain": [
              "<Figure size 432x288 with 1 Axes>"
            ]
          },
          "metadata": {
            "tags": [],
            "needs_background": "light"
          }
        }
      ]
    },
    {
      "cell_type": "code",
      "metadata": {
        "id": "ch09JcvBgRm3"
      },
      "source": [
        "import matplotlib.pyplot as plt\n",
        "import math\n",
        "def newton():\n",
        "  print(\"Metodo Newton Raphson funcion 2*x^2-x-5\")\n",
        "  print(\"Ingresa un valor inicial\")\n",
        "  xin = int(input())\n",
        "  print(\"Ingresa un criterio de paro /n Debe ser meno a 1, ejemplo 0.00001\")\n",
        "  cri = float(input())\n",
        "  fg1(xin,cri)\n",
        "\n",
        "def g1(x):\n",
        "  return ((2*(x**2)-x-5))\n",
        "\n",
        "def gg1(x):\n",
        "  return ((4*x)-1)\n",
        "\n",
        "def fg1(xinicial, criterio=0.0001):\n",
        "  x_vec=[]\n",
        "  x_vec.append(xinicial)\n",
        "  contador = 0\n",
        "  error_vec=[]\n",
        "  error_vec.append(1)\n",
        "  criterio_paro = criterio\n",
        "  iteraciones = True\n",
        "  while(error_vec[contador] > criterio_paro):\n",
        "    xx = g1(x_vec[contador])\n",
        "    yy = gg1(x_vec[contador])\n",
        "    div = (xx / yy) if yy != 0 else 0\n",
        "    x_temp = (x_vec[contador]-div)\n",
        "    x_vec.append(x_temp)\n",
        "    e_temp = abs(x_vec[contador+1]-x_vec[contador])\n",
        "    error_vec.append(e_temp)\n",
        "    contador += 1\n",
        "    if (x_vec[contador]>=2000):\n",
        "      iteraciones = False\n",
        "      break\n",
        "  print(\"Raiz \"+str(x_vec[contador-1]))\n",
        "  print(iteraciones)\n",
        "  plt.plot(x_vec, label = \"x_r\")\n",
        "  plt.plot(error_vec, label = \"error\")\n",
        "  plt.legend()\n",
        "  plt.show()  "
      ],
      "execution_count": 14,
      "outputs": []
    },
    {
      "cell_type": "code",
      "metadata": {
        "colab": {
          "base_uri": "https://localhost:8080/",
          "height": 382
        },
        "id": "wsup5m5ohpwj",
        "outputId": "2e001c1b-8420-441a-a3b4-9a9950a26524"
      },
      "source": [
        "newton()"
      ],
      "execution_count": 13,
      "outputs": [
        {
          "output_type": "stream",
          "text": [
            "Metodo Newton Raphson funcion \n",
            "Ingresa un valor inicial\n",
            "33\n",
            "Ingresa un criterio de paro\n",
            "0.00001\n",
            "Raiz 0.5671431650348623\n",
            "True\n"
          ],
          "name": "stdout"
        },
        {
          "output_type": "display_data",
          "data": {
            "image/png": "[encoded data removed]",
            "text/plain": [
              "<Figure size 432x288 with 1 Axes>"
            ]
          },
          "metadata": {
            "tags": [],
            "needs_background": "light"
          }
        }
      ]
    },
    {
      "cell_type": "code",
      "metadata": {
        "id": "1sYqfgZeglc6"
      },
      "source": [
        "import matplotlib.pyplot as plt\n",
        "import math\n",
        "def newton():\n",
        "  print(\"Metodo Newton Raphson funcion \")\n",
        "  print(\"Ingresa un valor inicial\")\n",
        "  xin = int(input())\n",
        "  print(\"Ingresa un criterio de paro\")\n",
        "  cri = float(input())\n",
        "  fg1(xin,cri)\n",
        "\n",
        "def g1(x):\n",
        "  return ((math.e**-x)-x)\n",
        "\n",
        "def gg1(x):\n",
        "  return ((-math.e**-x)-1)\n",
        "\n",
        "def fg1(xinicial, criterio=0.0001):\n",
        "  x_vec=[]\n",
        "  x_vec.append(xinicial)\n",
        "  contador = 0\n",
        "  error_vec=[]\n",
        "  error_vec.append(1)\n",
        "  criterio_paro = criterio\n",
        "  iteraciones = True\n",
        "  while(error_vec[contador] > criterio_paro):\n",
        "    xx = g1(x_vec[contador])\n",
        "    yy = gg1(x_vec[contador])\n",
        "    div = (xx / yy) if yy != 0 else 0\n",
        "    x_temp = (x_vec[contador]-div)\n",
        "    x_vec.append(x_temp)\n",
        "    e_temp = abs(x_vec[contador+1]-x_vec[contador])\n",
        "    error_vec.append(e_temp)\n",
        "    contador += 1\n",
        "    if (x_vec[contador]>=2000):\n",
        "      iteraciones = False\n",
        "      break\n",
        "  print(\"Raiz \"+str(x_vec[contador-1]))\n",
        "  print(iteraciones)\n",
        "  plt.plot(x_vec, label = \"x_r\")\n",
        "  plt.plot(error_vec, label = \"error\")\n",
        "  plt.legend()\n",
        "  plt.show()  "
      ],
      "execution_count": null,
      "outputs": []
    }
  ]
}